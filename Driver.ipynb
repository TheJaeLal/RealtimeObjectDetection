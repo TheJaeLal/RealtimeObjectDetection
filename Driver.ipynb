{
 "cells": [
  {
   "cell_type": "code",
   "execution_count": 1,
   "metadata": {},
   "outputs": [
    {
     "name": "stderr",
     "output_type": "stream",
     "text": [
      "/home/james/anaconda3/lib/python3.6/site-packages/h5py/__init__.py:36: FutureWarning: Conversion of the second argument of issubdtype from `float` to `np.floating` is deprecated. In future, it will be treated as `np.float64 == np.dtype(float).type`.\n",
      "  from ._conv import register_converters as _register_converters\n"
     ]
    }
   ],
   "source": [
    "import tensorflow as tf\n",
    "import cv2\n",
    "\n",
    "import numpy as np\n",
    "import os"
   ]
  },
  {
   "cell_type": "code",
   "execution_count": 2,
   "metadata": {},
   "outputs": [],
   "source": [
    "def load_image(img_path):\n",
    "    image = cv2.imread(img_path)\n",
    "    image = np.expand_dims(image,axis=0)\n",
    "    return image"
   ]
  },
  {
   "cell_type": "code",
   "execution_count": 3,
   "metadata": {},
   "outputs": [],
   "source": [
    "def draw_bounding_box(img,detections,boxes,classes):\n",
    "    img_height,img_width,_ = img.shape\n",
    "    \n",
    "    for i in detections:\n",
    "        #Draw bounding box \n",
    "        \n",
    "        #Convert points into different format\n",
    "        ymin, xmin, ymax, xmax = boxes[i]\n",
    "        \n",
    "        xmin = int(xmin*img_width)\n",
    "        xmax = int(xmax*img_width)\n",
    "        ymin = int(ymin*img_height)\n",
    "        ymax = int(ymax*img_height)\n",
    "        \n",
    "        \n",
    "        #print(\"x goes from {0} to {1}\".format(xmin,xmax))\n",
    "        #print(\"y goes from {0} to {1}\".format(ymin,ymax))\n",
    "        \n",
    "        \n",
    "        cv2.rectangle(img,(xmin,ymin),(xmax,ymax),(0,255,0),thickness = 2)\n",
    "        \n",
    "        cv2.imwrite(\"out.jpg\",img)"
   ]
  },
  {
   "cell_type": "code",
   "execution_count": 4,
   "metadata": {},
   "outputs": [],
   "source": [
    "\n",
    "path_to_infer_graph = \"model/frozen_inference_graph.pb\""
   ]
  },
  {
   "cell_type": "code",
   "execution_count": 5,
   "metadata": {},
   "outputs": [],
   "source": [
    "test_imgs_dir = 'Test_Images'"
   ]
  },
  {
   "cell_type": "code",
   "execution_count": 6,
   "metadata": {},
   "outputs": [],
   "source": [
    "detection_graph = tf.Graph()"
   ]
  },
  {
   "cell_type": "code",
   "execution_count": 7,
   "metadata": {},
   "outputs": [],
   "source": [
    "img_paths = [os.path.join(test_imgs_dir,fname) for fname in os.listdir(test_imgs_dir) if fname.lower().endswith(\".png\") or fname.lower().endswith(\".jpg\")]"
   ]
  },
  {
   "cell_type": "code",
   "execution_count": 8,
   "metadata": {},
   "outputs": [],
   "source": [
    "img_paths.sort()"
   ]
  },
  {
   "cell_type": "code",
   "execution_count": 9,
   "metadata": {},
   "outputs": [],
   "source": [
    "with detection_graph.as_default():\n",
    "    od_graph_def = tf.GraphDef()\n",
    "    with tf.gfile.GFile(path_to_infer_graph,mode='rb') as graph_file:\n",
    "        serialized_graph = graph_file.read()\n",
    "        od_graph_def.ParseFromString(serialized_graph)\n",
    "        tf.import_graph_def(od_graph_def)"
   ]
  },
  {
   "cell_type": "code",
   "execution_count": 10,
   "metadata": {},
   "outputs": [],
   "source": [
    "sess = tf.InteractiveSession(graph = detection_graph)"
   ]
  },
  {
   "cell_type": "code",
   "execution_count": 11,
   "metadata": {},
   "outputs": [],
   "source": [
    "# names = [n.name for n in sess.graph.as_graph_def().node]"
   ]
  },
  {
   "cell_type": "code",
   "execution_count": 12,
   "metadata": {},
   "outputs": [],
   "source": [
    "for img_path in img_paths:\n",
    "    test_img = load_image(img_path)\n",
    "    \n",
    "    input_ = sess.graph.get_tensor_by_name(\"import/image_tensor:0\")\n",
    "    boxes = sess.graph.get_tensor_by_name(\"import/detection_boxes:0\")\n",
    "    scores = sess.graph.get_tensor_by_name(\"import/detection_scores:0\")\n",
    "    classes = sess.graph.get_tensor_by_name(\"import/detection_classes:0\")\n",
    "    num_detections = sess.graph.get_tensor_by_name(\"import/num_detections:0\")\n",
    "    (boxes, scores, classes, num_detections) = sess.run( \n",
    "                    [boxes, scores, classes, num_detections],\n",
    "                    feed_dict={input_: test_img})\n",
    "    \n",
    "    boxes = np.squeeze(boxes,axis=0)\n",
    "    scores = np.squeeze(scores,axis=0)\n",
    "    classes = np.squeeze(classes,axis=0)\n",
    "    test_img = np.squeeze(test_img,axis=0)\n",
    "    \n",
    "    detections = []\n",
    "    for i,score in enumerate(scores):\n",
    "        if score >=0.20:\n",
    "            detections.append(i)\n",
    "    \n",
    "    draw_bounding_box(test_img,detections,boxes)\n",
    "        \n",
    "    #print(boxes,scores,classes,num_detections)"
   ]
  }
 ],
 "metadata": {
  "kernelspec": {
   "display_name": "Python 3",
   "language": "python",
   "name": "python3"
  },
  "language_info": {
   "codemirror_mode": {
    "name": "ipython",
    "version": 3
   },
   "file_extension": ".py",
   "mimetype": "text/x-python",
   "name": "python",
   "nbconvert_exporter": "python",
   "pygments_lexer": "ipython3",
   "version": "3.6.4"
  }
 },
 "nbformat": 4,
 "nbformat_minor": 2
}
